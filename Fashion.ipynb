{
 "cells": [
  {
   "cell_type": "raw",
   "id": "ee39e0b9-3da5-4de5-8ffc-c71341d5351a",
   "metadata": {},
   "source": [
    "0 T-shirt/top\n",
    "1 Trouser\n",
    "2 Pullover\n",
    "3 Dress\n",
    "4 Coat\n",
    "5 Sandal\n",
    "6 Shirt\n",
    "7 Sneaker\n",
    "8 Bag\n",
    "9 Ankle boot"
   ]
  },
  {
   "cell_type": "code",
   "execution_count": null,
   "id": "33a1f075-9de2-4d44-a379-da3c2bc97916",
   "metadata": {},
   "outputs": [],
   "source": []
  },
  {
   "cell_type": "code",
   "execution_count": 2,
   "id": "987ab859-b481-47bc-8ae5-ee50a5969135",
   "metadata": {},
   "outputs": [],
   "source": [
    "import numpy as np # linear algebra\n",
    "import pandas as pd # data processing, CSV file I/O (e.g. pd.read_csv)\n",
    "import os\n",
    "\n",
    "import keras\n",
    "import matplotlib.pyplot as plt\n",
    "import cv2\n",
    "import tensorflow as tf\n",
    "from keras.models import Sequential\n",
    "\n",
    "from tensorflow.keras.layers import Conv2D,MaxPooling2D,Flatten,Dense"
   ]
  },
  {
   "cell_type": "markdown",
   "id": "e29f80e0-35bc-49e0-bfbc-139227795732",
   "metadata": {},
   "source": [
    "# Read the data from data set "
   ]
  },
  {
   "cell_type": "code",
   "execution_count": 3,
   "id": "91fce4d5-5d37-40e5-9f88-3be465364ad0",
   "metadata": {},
   "outputs": [],
   "source": [
    "data = tf.keras.datasets.fashion_mnist"
   ]
  },
  {
   "cell_type": "code",
   "execution_count": 4,
   "id": "27c3ef91-5cf4-4b96-b165-84d3afebb2ab",
   "metadata": {},
   "outputs": [],
   "source": [
    "# train --> img , label \n",
    "# test --> img , label "
   ]
  },
  {
   "cell_type": "code",
   "execution_count": 6,
   "id": "cfe170f8-5058-4b55-8270-2b8366e7275a",
   "metadata": {},
   "outputs": [
    {
     "name": "stdout",
     "output_type": "stream",
     "text": [
      "Downloading data from https://storage.googleapis.com/tensorflow/tf-keras-datasets/train-labels-idx1-ubyte.gz\n",
      "29515/29515 [==============================] - 0s 2us/step\n",
      "Downloading data from https://storage.googleapis.com/tensorflow/tf-keras-datasets/train-images-idx3-ubyte.gz\n",
      "26421880/26421880 [==============================] - 7s 0us/step\n",
      "Downloading data from https://storage.googleapis.com/tensorflow/tf-keras-datasets/t10k-labels-idx1-ubyte.gz\n",
      "5148/5148 [==============================] - 0s 0s/step\n",
      "Downloading data from https://storage.googleapis.com/tensorflow/tf-keras-datasets/t10k-images-idx3-ubyte.gz\n",
      "4422102/4422102 [==============================] - 1s 0us/step\n"
     ]
    }
   ],
   "source": [
    "(train_img , train_label) , (test_img , test_label) = data.load_data()"
   ]
  },
  {
   "cell_type": "code",
   "execution_count": 8,
   "id": "3ee20a67-05a5-4c41-baeb-36e2dcf767e7",
   "metadata": {},
   "outputs": [
    {
     "data": {
      "text/plain": [
       "9"
      ]
     },
     "execution_count": 8,
     "metadata": {},
     "output_type": "execute_result"
    }
   ],
   "source": [
    "train_label[0]"
   ]
  },
  {
   "cell_type": "code",
   "execution_count": 19,
   "id": "8e6632bd-47ce-4b5e-b2e8-833c5d72d563",
   "metadata": {},
   "outputs": [],
   "source": [
    "from sklearn.preprocessing import OneHotEncoder"
   ]
  },
  {
   "cell_type": "code",
   "execution_count": 20,
   "id": "6c39f50e-67d5-4ffb-8e90-cf17fdeb491f",
   "metadata": {},
   "outputs": [],
   "source": [
    "OHE = OneHotEncoder()"
   ]
  },
  {
   "cell_type": "code",
   "execution_count": null,
   "id": "f018d2e6-1b29-4e1f-8782-46b463114bd5",
   "metadata": {},
   "outputs": [],
   "source": [
    "بعمل كدا علشان اعمل علي train_label"
   ]
  },
  {
   "cell_type": "code",
   "execution_count": 21,
   "id": "c58e193b-2e64-4d15-8428-265ccffdc73f",
   "metadata": {},
   "outputs": [],
   "source": [
    "train_labels = OHE.fit_transform (train_label.reshape(-1,1)).toarray()"
   ]
  },
  {
   "cell_type": "code",
   "execution_count": 23,
   "id": "07365825-7e00-4c9c-8df4-b4a7583ea295",
   "metadata": {},
   "outputs": [
    {
     "data": {
      "text/plain": [
       "array([0., 0., 0., 0., 0., 0., 0., 0., 0., 1.])"
      ]
     },
     "execution_count": 23,
     "metadata": {},
     "output_type": "execute_result"
    }
   ],
   "source": [
    "train_labels[0]"
   ]
  },
  {
   "cell_type": "code",
   "execution_count": 24,
   "id": "ff788c54-7141-43dd-b440-abb2db1bcc61",
   "metadata": {},
   "outputs": [],
   "source": [
    "test_labels = OHE.fit_transform (test_label.reshape(-1,1)).toarray()"
   ]
  },
  {
   "cell_type": "code",
   "execution_count": 25,
   "id": "e6774d29-8b15-48be-8c3b-b7e53519de5e",
   "metadata": {},
   "outputs": [
    {
     "data": {
      "text/plain": [
       "array([0., 0., 0., 0., 0., 0., 1., 0., 0., 0.])"
      ]
     },
     "execution_count": 25,
     "metadata": {},
     "output_type": "execute_result"
    }
   ],
   "source": [
    "test_labels[4]"
   ]
  },
  {
   "cell_type": "raw",
   "id": "a966a657-2ff3-4291-8595-460908874c75",
   "metadata": {},
   "source": [
    "هخزن الداتا الي عندي في جروب "
   ]
  },
  {
   "cell_type": "code",
   "execution_count": 9,
   "id": "208e2896-336f-401f-a82d-f86dff3ed16f",
   "metadata": {},
   "outputs": [],
   "source": [
    "class_name = [\"T-shirt/top\"\n",
    ",\"Trouser\",\" Pullover\",\" Dress\", \"Coat\" ,\"Sandal\" ,\"Shirt\" ,\"Sneaker\" ,\"Bag\",\" Ankle boot\"]"
   ]
  },
  {
   "cell_type": "code",
   "execution_count": null,
   "id": "4ba3395f-565c-45ac-a2be-75a4ec8ed7b3",
   "metadata": {},
   "outputs": [],
   "source": [
    "Show the data , it's loop 25 , "
   ]
  },
  {
   "cell_type": "code",
   "execution_count": 14,
   "id": "49aefb10-d90a-4a6c-8a22-23624e5947c5",
   "metadata": {},
   "outputs": [
    {
     "data": {
      "image/png": "[encoded data removed]",
      "text/plain": [
       "<Figure size 720x720 with 25 Axes>"
      ]
     },
     "metadata": {},
     "output_type": "display_data"
    }
   ],
   "source": [
    "plt.figure(figsize=(10,10))\n",
    "\n",
    "for i in range (25):\n",
    "    plt.subplot(5,5,i+1)\n",
    "    \n",
    "    plt.xticks([])\n",
    "    plt.yticks([])\n",
    "\n",
    "    plt.imshow(train_img[i],cmap=\"gray\")\n",
    "\n",
    "    plt.xlabel(class_name[train_label[i]])\n",
    "plt.show()"
   ]
  },
  {
   "cell_type": "code",
   "execution_count": 15,
   "id": "b3c40856-69ef-4047-9718-1ae240359b4c",
   "metadata": {},
   "outputs": [
    {
     "data": {
      "text/plain": [
       "(60000, 10000)"
      ]
     },
     "execution_count": 15,
     "metadata": {},
     "output_type": "execute_result"
    }
   ],
   "source": [
    "len (train_label),len(test_label)"
   ]
  },
  {
   "cell_type": "code",
   "execution_count": 16,
   "id": "945573b6-63cc-4a7b-b906-07dc11ac1c06",
   "metadata": {},
   "outputs": [
    {
     "data": {
      "text/plain": [
       "(28, 28)"
      ]
     },
     "execution_count": 16,
     "metadata": {},
     "output_type": "execute_result"
    }
   ],
   "source": [
    "train_img[0].shape"
   ]
  },
  {
   "cell_type": "code",
   "execution_count": 17,
   "id": "d6ff02ef-b908-4430-98de-7402c91c932b",
   "metadata": {},
   "outputs": [
    {
     "name": "stdout",
     "output_type": "stream",
     "text": [
      "Model: \"sequential\"\n",
      "_________________________________________________________________\n",
      " Layer (type)                Output Shape              Param #   \n",
      "=================================================================\n",
      " conv2d (Conv2D)             (None, 26, 26, 32)        320       \n",
      "                                                                 \n",
      " max_pooling2d (MaxPooling2D  (None, 13, 13, 32)       0         \n",
      " )                                                               \n",
      "                                                                 \n",
      " conv2d_1 (Conv2D)           (None, 11, 11, 64)        18496     \n",
      "                                                                 \n",
      " max_pooling2d_1 (MaxPooling  (None, 5, 5, 64)         0         \n",
      " 2D)                                                             \n",
      "                                                                 \n",
      " conv2d_2 (Conv2D)           (None, 3, 3, 64)          36928     \n",
      "                                                                 \n",
      " flatten (Flatten)           (None, 576)               0         \n",
      "                                                                 \n",
      " dense (Dense)               (None, 32)                18464     \n",
      "                                                                 \n",
      " dense_1 (Dense)             (None, 10)                330       \n",
      "                                                                 \n",
      "=================================================================\n",
      "Total params: 74,538\n",
      "Trainable params: 74,538\n",
      "Non-trainable params: 0\n",
      "_________________________________________________________________\n"
     ]
    }
   ],
   "source": [
    "model=Sequential()\n",
    "model.add(Conv2D(32,(3,3),activation='relu',input_shape=(28,28,1)))\n",
    "model.add(MaxPooling2D((2,2)))\n",
    "model.add(Conv2D(64,(3,3),activation='relu'))\n",
    "model.add(MaxPooling2D((2,2)))\n",
    "model.add(Conv2D(64,(3,3),activation='relu'))\n",
    "model.add(Flatten()) # convert 2D to 1D\n",
    "model.add(Dense(32,activation='relu'))\n",
    "model.add(Dense(10,activation='softmax'))# output layer # 10 it's output\n",
    "model.summary()"
   ]
  },
  {
   "cell_type": "code",
   "execution_count": 26,
   "id": "798095e8-728e-48f4-90d6-0e8b060e8ee1",
   "metadata": {},
   "outputs": [],
   "source": [
    "model.compile(loss='categorical_crossentropy',optimizer='rmsprop',metrics=['accuracy'])"
   ]
  },
  {
   "cell_type": "code",
   "execution_count": 30,
   "id": "29b902d4-839d-4a1c-972b-aa8d2a471e6a",
   "metadata": {},
   "outputs": [
    {
     "name": "stdout",
     "output_type": "stream",
     "text": [
      "Epoch 1/5\n",
      "1200/1200 [==============================] - 31s 26ms/step - loss: 0.3612 - accuracy: 0.8880 - val_loss: 0.4211 - val_accuracy: 0.8742\n",
      "Epoch 2/5\n",
      "1200/1200 [==============================] - 34s 29ms/step - loss: 0.3313 - accuracy: 0.8896 - val_loss: 0.3827 - val_accuracy: 0.8763\n",
      "Epoch 3/5\n",
      "1200/1200 [==============================] - 31s 26ms/step - loss: 0.3354 - accuracy: 0.8887 - val_loss: 0.4043 - val_accuracy: 0.8792\n",
      "Epoch 4/5\n",
      "1200/1200 [==============================] - 31s 26ms/step - loss: 0.3350 - accuracy: 0.8889 - val_loss: 0.4693 - val_accuracy: 0.8637\n",
      "Epoch 5/5\n",
      "1200/1200 [==============================] - 29s 24ms/step - loss: 0.3351 - accuracy: 0.8891 - val_loss: 0.6293 - val_accuracy: 0.8717\n"
     ]
    }
   ],
   "source": [
    "history=model.fit(train_img,train_labels,validation_split=0.2,batch_size=40,epochs=5)"
   ]
  },
  {
   "cell_type": "code",
   "execution_count": 29,
   "id": "ad8569b7-5fb1-4c5d-93c4-42b2fc0afc63",
   "metadata": {},
   "outputs": [
    {
     "data": {
      "image/png": "[encoded data removed]",
      "text/plain": [
       "<Figure size 576x432 with 1 Axes>"
      ]
     },
     "metadata": {
      "needs_background": "light"
     },
     "output_type": "display_data"
    }
   ],
   "source": [
    "plt.figure(figsize=(8,6))\n",
    "plt.plot(history.history['accuracy'])\n",
    "plt.plot(history.history['val_accuracy'])\n",
    "plt.title(\"train vs Validation \")\n",
    "plt.xlabel(\"Epochs \")\n",
    "plt.ylabel(\"Accuarcy\")\n",
    "plt.show()"
   ]
  },
  {
   "cell_type": "code",
   "execution_count": null,
   "id": "61689758-118b-465d-8341-6c79f3733f17",
   "metadata": {},
   "outputs": [],
   "source": [
    "plt.figure(figsize=(8,6))\n",
    "plt.plot(history.history['loss'])\n",
    "plt.plot(history.history['val_loss'])\n",
    "plt.title(\"train vs Validation \")\n",
    "plt.xlabel(\"Epochs \")\n",
    "plt.ylabel(\"Accuarcy\")\n",
    "plt.show()"
   ]
  },
  {
   "cell_type": "code",
   "execution_count": null,
   "id": "2d2b28e2-6ab1-4b36-8a6d-c84cf0727232",
   "metadata": {},
   "outputs": [],
   "source": []
  }
 ],
 "metadata": {
  "kernelspec": {
   "display_name": "Python 3 (ipykernel)",
   "language": "python",
   "name": "python3"
  },
  "language_info": {
   "codemirror_mode": {
    "name": "ipython",
    "version": 3
   },
   "file_extension": ".py",
   "mimetype": "text/x-python",
   "name": "python",
   "nbconvert_exporter": "python",
   "pygments_lexer": "ipython3",
   "version": "3.9.7"
  }
 },
 "nbformat": 4,
 "nbformat_minor": 5
}
