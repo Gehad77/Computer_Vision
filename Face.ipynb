{
 "cells": [
  {
   "cell_type": "markdown",
   "id": "0fbee041-539b-42fc-9af2-46335d639ec7",
   "metadata": {},
   "source": [
    "# How to object the img"
   ]
  },
  {
   "cell_type": "code",
   "execution_count": 1,
   "id": "c9686c17-8495-433f-b3f9-4fefe52ef76c",
   "metadata": {},
   "outputs": [],
   "source": [
    "import cv2\n",
    "\n",
    "face_detect = cv2.CascadeClassifier(\"haarcascade_frontalface_default.xml\")\n",
    "\n",
    "eye_detect = cv2.CascadeClassifier(\"haarcascade_eye.xml\")\n",
    "\n",
    "smile_detect = cv2.CascadeClassifier(\"haarcascade_smile.xml\")\n",
    "\n",
    "stream = cv2.VideoCapture(0)\n",
    "\n",
    "while True:\n",
    "    \n",
    "    st, frame = stream.read()\n",
    "\n",
    "    gray_frame = cv2.cvtColor(frame,cv2.COLOR_BGR2GRAY)\n",
    "\n",
    "############# Face Detect\n",
    "    \n",
    "    faces = face_detect.detectMultiScale(gray_frame,1.3,5)\n",
    "\n",
    "    for (x,y,w,h) in faces:\n",
    "        cv2.rectangle(frame,(x,y),(x+w,y+h),(0,255,0),2)\n",
    "        face_only = frame[y:y+h,x:x+w]\n",
    "        \n",
    "############# eye detect        \n",
    "\n",
    "        eyes = eye_detect.detectMultiScale(face_only)\n",
    "        for (ex,ey,ew,eh) in eyes:\n",
    "            eye_x = int((ex+(ew/2))) - 10\n",
    "            eye_y = int((ey+(eh/2))) + 10\n",
    "            cv2.putText(face_only,\"X\",(eye_x,eye_y),cv2.FONT_HERSHEY_COMPLEX,1.5,(0,0,255),5)\n",
    "\n",
    "############ Smile Detect\n",
    "        smiles = smile_detect.detectMultiScale(face_only,1.3,10)\n",
    "        for (sx,sy,sw,sh) in smiles:\n",
    "             cv2.rectangle(face_only,(sx,sy),(sx+sw,sy+sh),(255,0,0),2)\n",
    "        \n",
    "\n",
    "\n",
    "############# Show  \n",
    "    cv2.imshow(\"live stream\", frame)\n",
    "    \n",
    "    if cv2.waitKey(50) & 0xff == ord(\"x\"):\n",
    "\n",
    "        break\n",
    "\n",
    "stream.release()\n",
    "\n",
    "cv2.destroyAllWindows()"
   ]
  },
  {
   "cell_type": "code",
   "execution_count": null,
   "id": "4e4e31a0-fb6b-4563-a4a5-2a5caa355951",
   "metadata": {},
   "outputs": [],
   "source": []
  },
  {
   "cell_type": "markdown",
   "id": "e065cc29-6bab-456f-951e-4bd6834a3929",
   "metadata": {},
   "source": [
    "# Capture the img "
   ]
  },
  {
   "cell_type": "code",
   "execution_count": null,
   "id": "69d7c433-f270-4ed2-84e7-6c449b50e4fd",
   "metadata": {},
   "outputs": [],
   "source": [
    "import numpy as np\n",
    "import cv2\n",
    "\n",
    "cap = cv2.VideoCapture(0)  # 0  means the prime Camera    # 1 for second camera [ usb] #  you can put a video path in string  like 'video.mp4'\n",
    "g=0\n",
    "while(cap.isOpened()):\n",
    "    ret, frame = cap.read()   # to Read each Frame   [ ret is True when frame is read perfectly, frame is the image]\n",
    "\n",
    "    #gray = cv2.cvtColor(frame, cv2.COLOR_BGR2GRAY)     # Change BGR  to  Gray Colormap\n",
    "\n",
    "    cv2.imshow('frame',frame)\n",
    "    if cv2.waitKey(100) & 0xFF == ord('g'):    #  PRESS \"g\" TO  Take Photo  # 1000  =  1 second \n",
    "        g=g+1\n",
    "        cv2.imwrite('E:\\Machine Learning\\Machine Learning\\jehad\\jehad'+str(g)+'.jpg',frame)  #  Change it To Class 2  then 3 ... etc\n",
    "        if g == 50:\n",
    "            break\n",
    "\n",
    "cap.release() # Close The Camera\n",
    "cv2.destroyAllWindows()"
   ]
  },
  {
   "cell_type": "code",
   "execution_count": null,
   "id": "ec16713d-beb3-4998-961a-68c077b6c3f8",
   "metadata": {},
   "outputs": [],
   "source": []
  },
  {
   "cell_type": "code",
   "execution_count": null,
   "id": "ef026b06-916d-4a21-8cd5-03b7fc19c287",
   "metadata": {},
   "outputs": [],
   "source": []
  }
 ],
 "metadata": {
  "kernelspec": {
   "display_name": "Python 3 (ipykernel)",
   "language": "python",
   "name": "python3"
  },
  "language_info": {
   "codemirror_mode": {
    "name": "ipython",
    "version": 3
   },
   "file_extension": ".py",
   "mimetype": "text/x-python",
   "name": "python",
   "nbconvert_exporter": "python",
   "pygments_lexer": "ipython3",
   "version": "3.9.7"
  }
 },
 "nbformat": 4,
 "nbformat_minor": 5
}
